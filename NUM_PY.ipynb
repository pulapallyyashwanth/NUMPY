{
  "nbformat": 4,
  "nbformat_minor": 0,
  "metadata": {
    "colab": {
      "provenance": [],
      "authorship_tag": "ABX9TyOenerM/fp8OgrzO6iK168Y",
      "include_colab_link": true
    },
    "kernelspec": {
      "name": "python3",
      "display_name": "Python 3"
    },
    "language_info": {
      "name": "python"
    }
  },
  "cells": [
    {
      "cell_type": "markdown",
      "metadata": {
        "id": "view-in-github",
        "colab_type": "text"
      },
      "source": [
        "<a href=\"https://colab.research.google.com/github/pulapallyyashwanth/NUMPY/blob/main/NUM_PY.ipynb\" target=\"_parent\"><img src=\"https://colab.research.google.com/assets/colab-badge.svg\" alt=\"Open In Colab\"/></a>"
      ]
    },
    {
      "cell_type": "markdown",
      "source": [
        "**Numpy Basics  03-01-2025**"
      ],
      "metadata": {
        "id": "1osJzxfYBVB9"
      }
    },
    {
      "cell_type": "code",
      "execution_count": null,
      "metadata": {
        "id": "z4hjmPBKAf6T",
        "colab": {
          "base_uri": "https://localhost:8080/",
          "height": 35
        },
        "outputId": "b40c8e0b-4c4c-4656-c6c7-a7f076d30321"
      },
      "outputs": [
        {
          "output_type": "execute_result",
          "data": {
            "text/plain": [
              "'High performance, multi-dimensional data\\nstructure object which is designed specifically to perform maths operations'"
            ],
            "application/vnd.google.colaboratory.intrinsic+json": {
              "type": "string"
            }
          },
          "metadata": {},
          "execution_count": 7
        }
      ],
      "source": [
        "#what is Numpy--->    Num  + py------>    Numpy vs Pyspark\n",
        "#core library for sceintific computing in python\n",
        "#The central object in Numpy is \"Numpy Array's\"\n",
        "#what is Numpy array?\n",
        "'''High performance, multi-dimensional data\n",
        "structure object which is designed specifically to perform maths operations'''"
      ]
    },
    {
      "cell_type": "code",
      "source": [
        "#How many types array's do we have?\n",
        "#1D--> 0 cols and presensence of rows(axis = 0)\n",
        "#2D---> tabular data where it has both rows and columns\n",
        "#3D--> it is multidimensional data structure where it has axis =0, axis = 1 and axis = 2"
      ],
      "metadata": {
        "id": "zHWIfNMTFhws"
      },
      "execution_count": null,
      "outputs": []
    },
    {
      "cell_type": "code",
      "source": [
        "#what are all different use cases of Numpy?\n",
        "\"\"\"1. Dot product/ inner product\n",
        "   2. matrix multipolication\n",
        "   3. elemnt wise matrix product\n",
        "   4. solving the linear systems\n",
        "   5. inverse\n",
        "   6. determinent\n",
        "   7. choose the random numbers\n",
        "   8. statistics \"\"\""
      ],
      "metadata": {
        "colab": {
          "base_uri": "https://localhost:8080/",
          "height": 54
        },
        "id": "zFJiQoWYHsr1",
        "outputId": "eb8d8166-319a-4208-8018-36abb706bcd6"
      },
      "execution_count": null,
      "outputs": [
        {
          "output_type": "execute_result",
          "data": {
            "text/plain": [
              "'1. Dot product/ inner product\\n   2. matrix multipolication\\n   3. elemnt wise matrix product\\n   4. solving the linear systems\\n   5. inverse\\n   6. determinent\\n   7. choose the random numbers\\n   8. statistics '"
            ],
            "application/vnd.google.colaboratory.intrinsic+json": {
              "type": "string"
            }
          },
          "metadata": {},
          "execution_count": 2
        }
      ]
    },
    {
      "cell_type": "code",
      "source": [
        "#installation of Numpy\n",
        "!pip install Numpy"
      ],
      "metadata": {
        "colab": {
          "base_uri": "https://localhost:8080/"
        },
        "id": "sHyPLYPnIOUO",
        "outputId": "4034cc4b-772c-48e9-bdb7-6053de90ca92"
      },
      "execution_count": null,
      "outputs": [
        {
          "output_type": "stream",
          "name": "stdout",
          "text": [
            "Requirement already satisfied: Numpy in /usr/local/lib/python3.10/dist-packages (1.26.4)\n"
          ]
        }
      ]
    },
    {
      "cell_type": "code",
      "source": [
        "#import numpy\n",
        "import numpy as np"
      ],
      "metadata": {
        "id": "espqFkXsJAge"
      },
      "execution_count": null,
      "outputs": []
    },
    {
      "cell_type": "code",
      "source": [
        "#how can we check the version of numpy\n",
        "np.__version__"
      ],
      "metadata": {
        "colab": {
          "base_uri": "https://localhost:8080/",
          "height": 36
        },
        "id": "nZidE91EJa-3",
        "outputId": "ce8ca44b-95c6-42ae-dd56-c37e85f850d4"
      },
      "execution_count": null,
      "outputs": [
        {
          "output_type": "execute_result",
          "data": {
            "text/plain": [
              "'1.26.4'"
            ],
            "application/vnd.google.colaboratory.intrinsic+json": {
              "type": "string"
            }
          },
          "metadata": {},
          "execution_count": 5
        }
      ]
    },
    {
      "cell_type": "markdown",
      "source": [
        "#central object is array"
      ],
      "metadata": {
        "id": "w3A3dG5wJw50"
      }
    },
    {
      "cell_type": "code",
      "source": [
        "l1 =[1,2,3,4]\n",
        "a = np.array(l1)\n",
        "print(a)\n",
        "print(l1)\n",
        "#diff b/w list and array?\n",
        "#list--> []--> ordered, muttable, allows duplicates\n",
        "#array-->[]--> orderes, immutable, allows the duplicates"
      ],
      "metadata": {
        "colab": {
          "base_uri": "https://localhost:8080/"
        },
        "id": "Fhs1u817Jvka",
        "outputId": "b68cf55a-8ad4-45fa-f6ca-77f50d68a6a5"
      },
      "execution_count": null,
      "outputs": [
        {
          "output_type": "stream",
          "name": "stdout",
          "text": [
            "[1 2 3 4]\n",
            "[1, 2, 3, 4]\n"
          ]
        }
      ]
    },
    {
      "cell_type": "code",
      "source": [
        "a = np.array([1,2,3,4])\n",
        "print(a)\n",
        "#i want to know the shape of the array\n",
        "a.shape  #-->(count_rows,count_columns)\n",
        "#i want to know element data types in above array?\n",
        "a.dtype\n",
        "#i want to know the dimensionality of the array's?\n",
        "a.ndim\n",
        "#i want to know total no of elements in array\n",
        "a.size\n",
        "#i want to know the size in bytes, of each element?\n",
        "a.itemsize"
      ],
      "metadata": {
        "colab": {
          "base_uri": "https://localhost:8080/"
        },
        "id": "5ozTW7kqKVge",
        "outputId": "aa15d611-307b-4c1e-ccd8-db3a7858ed64"
      },
      "execution_count": null,
      "outputs": [
        {
          "output_type": "stream",
          "name": "stdout",
          "text": [
            "[1 2 3 4]\n"
          ]
        },
        {
          "output_type": "execute_result",
          "data": {
            "text/plain": [
              "8"
            ]
          },
          "metadata": {},
          "execution_count": 16
        }
      ]
    },
    {
      "cell_type": "markdown",
      "source": [
        "**04-01-2025**\n",
        "\n",
        "**essential methods in Numpy**"
      ],
      "metadata": {
        "id": "2fJamc5wERaY"
      }
    },
    {
      "cell_type": "code",
      "source": [
        "import numpy as np"
      ],
      "metadata": {
        "id": "I8ddCqj-FIl8"
      },
      "execution_count": null,
      "outputs": []
    },
    {
      "cell_type": "code",
      "source": [
        "b = np.array([1,2,3])\n",
        "#access the elements by using the index position numbers\n",
        "print(b[0])\n",
        "print(b[0:3])\n",
        "print(b[::-1])\n",
        "print(b[:])  #default indexing [start[0]:end n+1: step 1]\n",
        "print(b[::])\n"
      ],
      "metadata": {
        "id": "llZI0OnTERED"
      },
      "execution_count": null,
      "outputs": []
    },
    {
      "cell_type": "code",
      "source": [
        "#i want to know the sum of elements in the array\n",
        "print(sum(b))"
      ],
      "metadata": {
        "colab": {
          "base_uri": "https://localhost:8080/"
        },
        "id": "aNwsuW-BF8vw",
        "outputId": "c563e327-246d-4521-abe4-c1932ca17e30"
      },
      "execution_count": null,
      "outputs": [
        {
          "output_type": "stream",
          "name": "stdout",
          "text": [
            "6\n"
          ]
        }
      ]
    },
    {
      "cell_type": "code",
      "source": [
        "h = np.array([1,2,3,4,5,6,7,8,9])\n",
        "#print the sum array h\n",
        "print(sum(h))\n",
        "print(h.sum())\n",
        "#find the mean the of the array \"h\"\n",
        "print(h.mean())\n",
        "#find min number in array h\n",
        "print(h.min())\n",
        "#find the max number in array?\n",
        "print(h.max())\n",
        "\"\"\"a = ['cat','dog','cat']\n",
        "import pandas as pd\n",
        "df = pd.DataFrame(a)\n",
        "df.mode()\"\"\""
      ],
      "metadata": {
        "id": "4_J0s1CFGDp7"
      },
      "execution_count": null,
      "outputs": []
    },
    {
      "cell_type": "code",
      "source": [
        "l = [1,2,3,4,5,6,7,8,9]\n",
        "print(sum(l))\n",
        "#print(l.sum())\n",
        "l.append(10)\n",
        "l"
      ],
      "metadata": {
        "id": "0_n_rZHRGUpK"
      },
      "execution_count": null,
      "outputs": []
    },
    {
      "cell_type": "code",
      "source": [
        "a = np.array([1,2,3,4,5,1,3,4,1])\n",
        "print(dir(a))\n",
        "#Note:- arrays dont have mode"
      ],
      "metadata": {
        "colab": {
          "base_uri": "https://localhost:8080/"
        },
        "id": "qTnqzbpuG0S1",
        "outputId": "ee8ae5a4-ea46-4c66-e8bc-b4c71e43bb8a"
      },
      "execution_count": null,
      "outputs": [
        {
          "output_type": "stream",
          "name": "stdout",
          "text": [
            "['T', '__abs__', '__add__', '__and__', '__array__', '__array_finalize__', '__array_function__', '__array_interface__', '__array_prepare__', '__array_priority__', '__array_struct__', '__array_ufunc__', '__array_wrap__', '__bool__', '__class__', '__class_getitem__', '__complex__', '__contains__', '__copy__', '__deepcopy__', '__delattr__', '__delitem__', '__dir__', '__divmod__', '__dlpack__', '__dlpack_device__', '__doc__', '__eq__', '__float__', '__floordiv__', '__format__', '__ge__', '__getattribute__', '__getitem__', '__gt__', '__hash__', '__iadd__', '__iand__', '__ifloordiv__', '__ilshift__', '__imatmul__', '__imod__', '__imul__', '__index__', '__init__', '__init_subclass__', '__int__', '__invert__', '__ior__', '__ipow__', '__irshift__', '__isub__', '__iter__', '__itruediv__', '__ixor__', '__le__', '__len__', '__lshift__', '__lt__', '__matmul__', '__mod__', '__mul__', '__ne__', '__neg__', '__new__', '__or__', '__pos__', '__pow__', '__radd__', '__rand__', '__rdivmod__', '__reduce__', '__reduce_ex__', '__repr__', '__rfloordiv__', '__rlshift__', '__rmatmul__', '__rmod__', '__rmul__', '__ror__', '__rpow__', '__rrshift__', '__rshift__', '__rsub__', '__rtruediv__', '__rxor__', '__setattr__', '__setitem__', '__setstate__', '__sizeof__', '__str__', '__sub__', '__subclasshook__', '__truediv__', '__xor__', 'all', 'any', 'argmax', 'argmin', 'argpartition', 'argsort', 'astype', 'base', 'byteswap', 'choose', 'clip', 'compress', 'conj', 'conjugate', 'copy', 'ctypes', 'cumprod', 'cumsum', 'data', 'diagonal', 'dot', 'dtype', 'dump', 'dumps', 'fill', 'flags', 'flat', 'flatten', 'getfield', 'imag', 'item', 'itemset', 'itemsize', 'max', 'mean', 'min', 'nbytes', 'ndim', 'newbyteorder', 'nonzero', 'partition', 'prod', 'ptp', 'put', 'ravel', 'real', 'repeat', 'reshape', 'resize', 'round', 'searchsorted', 'setfield', 'setflags', 'shape', 'size', 'sort', 'squeeze', 'std', 'strides', 'sum', 'swapaxes', 'take', 'tobytes', 'tofile', 'tolist', 'tostring', 'trace', 'transpose', 'var', 'view']\n"
          ]
        }
      ]
    },
    {
      "cell_type": "markdown",
      "source": [
        "**Array vs list**"
      ],
      "metadata": {
        "id": "uiFH9TtkIx1R"
      }
    },
    {
      "cell_type": "code",
      "source": [
        "#add new item to the list\n",
        "l = [1,2,3,4,5,6,7,8,9]\n",
        "l.append(10)\n",
        "l"
      ],
      "metadata": {
        "colab": {
          "base_uri": "https://localhost:8080/"
        },
        "id": "hcs15C9sHDHe",
        "outputId": "b043a891-9dbc-4747-e1a3-112054ef5926"
      },
      "execution_count": null,
      "outputs": [
        {
          "output_type": "stream",
          "name": "stdout",
          "text": [
            "45\n"
          ]
        },
        {
          "output_type": "execute_result",
          "data": {
            "text/plain": [
              "[1, 2, 3, 4, 5, 6, 7, 8, 9, 10]"
            ]
          },
          "metadata": {},
          "execution_count": 27
        }
      ]
    },
    {
      "cell_type": "code",
      "source": [
        "#Add new item to the array\n",
        "a = np.array([1,2,3])\n",
        "a.append(4)\n",
        "a"
      ],
      "metadata": {
        "id": "h0tdf6-QI-uT"
      },
      "execution_count": null,
      "outputs": []
    },
    {
      "cell_type": "code",
      "source": [
        "#replace items\n",
        "a[0] = 5\n",
        "print(a)"
      ],
      "metadata": {
        "colab": {
          "base_uri": "https://localhost:8080/"
        },
        "id": "hPRyAjm2JZ0W",
        "outputId": "164f7e02-d9d0-42fe-ce49-14c7e78aeff2"
      },
      "execution_count": null,
      "outputs": [
        {
          "output_type": "stream",
          "name": "stdout",
          "text": [
            "[5 2 3]\n"
          ]
        }
      ]
    },
    {
      "cell_type": "code",
      "source": [
        "#Note: array's are immutable where in array's we can replace the items but we cannot add or remove the items\n",
        "#so the arry's are having fixed memory\n",
        "#MISD:--> multiple input single destination"
      ],
      "metadata": {
        "id": "Q_x4HaPbJhiv"
      },
      "execution_count": null,
      "outputs": []
    },
    {
      "cell_type": "code",
      "source": [
        "#how can we add items in an array?\n",
        "a = np.array([1,2,3])\n",
        "b = np.append(a,4)\n",
        "print(b)"
      ],
      "metadata": {
        "colab": {
          "base_uri": "https://localhost:8080/"
        },
        "id": "xZ6iAqiBPUxp",
        "outputId": "ef1ae76e-1217-4023-fd8a-96fad74a5c7b"
      },
      "execution_count": null,
      "outputs": [
        {
          "output_type": "stream",
          "name": "stdout",
          "text": [
            "[1 2 3 4]\n"
          ]
        }
      ]
    },
    {
      "cell_type": "code",
      "source": [
        "c = b + np.array(5)\n",
        "#single number array is adding with each and every element in array is known as \"Broad casting\" method\n",
        "print(c)"
      ],
      "metadata": {
        "colab": {
          "base_uri": "https://localhost:8080/"
        },
        "id": "Q3-c5GAPPmen",
        "outputId": "8aea73c9-74be-4da4-b2f1-5296f9453b4d"
      },
      "execution_count": null,
      "outputs": [
        {
          "output_type": "stream",
          "name": "stdout",
          "text": [
            "[6 7 8 9]\n"
          ]
        }
      ]
    },
    {
      "cell_type": "code",
      "source": [
        "#Vector addition:- adding two array's having equal number of elemnets  and same dimensions is known vector addition\n",
        "a = np.array([1,2,3])\n",
        "b = np.array([4,5,6])\n",
        "print(a+b)\n",
        "print(a*b)"
      ],
      "metadata": {
        "colab": {
          "base_uri": "https://localhost:8080/"
        },
        "id": "giaKzqsUQJHH",
        "outputId": "9999c112-5180-4d99-a880-547ef510cb52"
      },
      "execution_count": null,
      "outputs": [
        {
          "output_type": "stream",
          "name": "stdout",
          "text": [
            "[5 7 9]\n",
            "[ 4 10 18]\n"
          ]
        }
      ]
    },
    {
      "cell_type": "code",
      "source": [
        "l = [1,2,3]\n",
        "#multiple of 2\n",
        "for i in l:\n",
        "  print(i*2,end=\" \")"
      ],
      "metadata": {
        "colab": {
          "base_uri": "https://localhost:8080/"
        },
        "id": "NkGPpW0fQwJm",
        "outputId": "d1c8de17-9b6f-407b-8980-571ccd4b9403"
      },
      "execution_count": null,
      "outputs": [
        {
          "output_type": "stream",
          "name": "stdout",
          "text": [
            "2 4 6 "
          ]
        }
      ]
    },
    {
      "cell_type": "code",
      "source": [
        "print(a*2)"
      ],
      "metadata": {
        "id": "KNMNp8XgQ_WB"
      },
      "execution_count": null,
      "outputs": []
    },
    {
      "cell_type": "code",
      "source": [
        "#find the sqrt for array's\n",
        "print(a**0.5)"
      ],
      "metadata": {
        "colab": {
          "base_uri": "https://localhost:8080/"
        },
        "id": "6Ggg4bgMRLVf",
        "outputId": "6df527d3-32fa-40fd-fd9b-2e25abc0da16"
      },
      "execution_count": null,
      "outputs": [
        {
          "output_type": "stream",
          "name": "stdout",
          "text": [
            "[1.         1.41421356 1.73205081]\n"
          ]
        }
      ]
    },
    {
      "cell_type": "code",
      "source": [
        "a = ['apple',1,5.8,4+6j]\n",
        "b = np.array(a)\n",
        "print(b)"
      ],
      "metadata": {
        "colab": {
          "base_uri": "https://localhost:8080/"
        },
        "id": "B1-Fya4ATqWm",
        "outputId": "843c8811-e4c1-4858-f56e-789c20ccffca"
      },
      "execution_count": null,
      "outputs": [
        {
          "output_type": "stream",
          "name": "stdout",
          "text": [
            "['apple' '1' '5.8' '(4+6j)']\n"
          ]
        }
      ]
    },
    {
      "cell_type": "code",
      "source": [
        "b = [2+4j, 5+6j]\n",
        "c = np.array(b)\n",
        "d = np.insert(b,2,5+6j)\n",
        "print(d)"
      ],
      "metadata": {
        "colab": {
          "base_uri": "https://localhost:8080/"
        },
        "id": "cHMUt8p9T-AB",
        "outputId": "b620cd88-7bb6-4d65-a021-4c6ae0d8764c"
      },
      "execution_count": null,
      "outputs": [
        {
          "output_type": "stream",
          "name": "stdout",
          "text": [
            "[2.+4.j 5.+6.j 5.+6.j]\n"
          ]
        }
      ]
    },
    {
      "cell_type": "code",
      "source": [
        "print(dir(d))"
      ],
      "metadata": {
        "colab": {
          "base_uri": "https://localhost:8080/"
        },
        "id": "ihd0plotUiVH",
        "outputId": "b04e11e8-a73c-459f-c7ac-6459f260ca59"
      },
      "execution_count": null,
      "outputs": [
        {
          "output_type": "stream",
          "name": "stdout",
          "text": [
            "['T', '__abs__', '__add__', '__and__', '__array__', '__array_finalize__', '__array_function__', '__array_interface__', '__array_prepare__', '__array_priority__', '__array_struct__', '__array_ufunc__', '__array_wrap__', '__bool__', '__class__', '__class_getitem__', '__complex__', '__contains__', '__copy__', '__deepcopy__', '__delattr__', '__delitem__', '__dir__', '__divmod__', '__dlpack__', '__dlpack_device__', '__doc__', '__eq__', '__float__', '__floordiv__', '__format__', '__ge__', '__getattribute__', '__getitem__', '__gt__', '__hash__', '__iadd__', '__iand__', '__ifloordiv__', '__ilshift__', '__imatmul__', '__imod__', '__imul__', '__index__', '__init__', '__init_subclass__', '__int__', '__invert__', '__ior__', '__ipow__', '__irshift__', '__isub__', '__iter__', '__itruediv__', '__ixor__', '__le__', '__len__', '__lshift__', '__lt__', '__matmul__', '__mod__', '__mul__', '__ne__', '__neg__', '__new__', '__or__', '__pos__', '__pow__', '__radd__', '__rand__', '__rdivmod__', '__reduce__', '__reduce_ex__', '__repr__', '__rfloordiv__', '__rlshift__', '__rmatmul__', '__rmod__', '__rmul__', '__ror__', '__rpow__', '__rrshift__', '__rshift__', '__rsub__', '__rtruediv__', '__rxor__', '__setattr__', '__setitem__', '__setstate__', '__sizeof__', '__str__', '__sub__', '__subclasshook__', '__truediv__', '__xor__', 'all', 'any', 'argmax', 'argmin', 'argpartition', 'argsort', 'astype', 'base', 'byteswap', 'choose', 'clip', 'compress', 'conj', 'conjugate', 'copy', 'ctypes', 'cumprod', 'cumsum', 'data', 'diagonal', 'dot', 'dtype', 'dump', 'dumps', 'fill', 'flags', 'flat', 'flatten', 'getfield', 'imag', 'item', 'itemset', 'itemsize', 'max', 'mean', 'min', 'nbytes', 'ndim', 'newbyteorder', 'nonzero', 'partition', 'prod', 'ptp', 'put', 'ravel', 'real', 'repeat', 'reshape', 'resize', 'round', 'searchsorted', 'setfield', 'setflags', 'shape', 'size', 'sort', 'squeeze', 'std', 'strides', 'sum', 'swapaxes', 'take', 'tobytes', 'tofile', 'tolist', 'tostring', 'trace', 'transpose', 'var', 'view']\n"
          ]
        }
      ]
    },
    {
      "cell_type": "markdown",
      "source": [
        "dot"
      ],
      "metadata": {
        "id": "t_bMEjR4VGJs"
      }
    },
    {
      "cell_type": "code",
      "source": [
        "a = np.array([1,2])\n",
        "b = np.array([3,4])\n",
        "#sum of products of corresponding items\n",
        "#when apply dot product check the array are same number of elements\n",
        "dot = 0\n",
        "for i in range(len(a)):\n",
        "  dot += a[i]*b[i]\n",
        "  print(dot)"
      ],
      "metadata": {
        "id": "tRkKUfQNVCJi"
      },
      "execution_count": null,
      "outputs": []
    },
    {
      "cell_type": "code",
      "source": [
        "#easy methods\n",
        "dot = np.dot(a,b)\n",
        "dot"
      ],
      "metadata": {
        "colab": {
          "base_uri": "https://localhost:8080/"
        },
        "id": "u4TwmS2NV6fV",
        "outputId": "0a556ae6-259b-41a9-9b91-8167753dd486"
      },
      "execution_count": null,
      "outputs": [
        {
          "output_type": "execute_result",
          "data": {
            "text/plain": [
              "11"
            ]
          },
          "metadata": {},
          "execution_count": 49
        }
      ]
    },
    {
      "cell_type": "code",
      "source": [
        "dot = a.dot(b)\n",
        "print(dot)"
      ],
      "metadata": {
        "colab": {
          "base_uri": "https://localhost:8080/"
        },
        "id": "ev3cADjTWU8-",
        "outputId": "7510dae1-a8ae-47ac-eef0-a40f2ed73f44"
      },
      "execution_count": null,
      "outputs": [
        {
          "output_type": "stream",
          "name": "stdout",
          "text": [
            "11\n"
          ]
        }
      ]
    },
    {
      "cell_type": "code",
      "source": [
        "dot = a@b\n",
        "print(dot)"
      ],
      "metadata": {
        "colab": {
          "base_uri": "https://localhost:8080/"
        },
        "id": "JZqMDhM8WfV3",
        "outputId": "7ebb01f6-344f-40fd-9bab-b2e12ab7fe54"
      },
      "execution_count": null,
      "outputs": [
        {
          "output_type": "stream",
          "name": "stdout",
          "text": [
            "11\n"
          ]
        }
      ]
    },
    {
      "cell_type": "code",
      "source": [
        "#manul\n",
        "c = a*b\n",
        "d = np.sum(c)\n",
        "print(d)"
      ],
      "metadata": {
        "colab": {
          "base_uri": "https://localhost:8080/"
        },
        "id": "-2pj7OVXWIui",
        "outputId": "25eb2902-ce75-4ca2-8fee-d1684c2a40d8"
      },
      "execution_count": null,
      "outputs": [
        {
          "output_type": "stream",
          "name": "stdout",
          "text": [
            "11\n"
          ]
        }
      ]
    },
    {
      "cell_type": "markdown",
      "source": [
        "**06-01-2025**"
      ],
      "metadata": {
        "id": "oLLUvBtuXJMr"
      }
    },
    {
      "cell_type": "code",
      "source": [
        "import numpy as np"
      ],
      "metadata": {
        "id": "eD5_zWBPXSvJ"
      },
      "execution_count": null,
      "outputs": []
    },
    {
      "cell_type": "code",
      "source": [
        "#create a 1d array from list\n",
        "a = [1,2,3]\n",
        "b = np.array(a)\n",
        "print(b.ndim)"
      ],
      "metadata": {
        "colab": {
          "base_uri": "https://localhost:8080/"
        },
        "id": "To_XUc-rXzDi",
        "outputId": "a7bad438-fc62-4635-8457-5a73fe7a0016"
      },
      "execution_count": null,
      "outputs": [
        {
          "output_type": "stream",
          "name": "stdout",
          "text": [
            "1\n"
          ]
        }
      ]
    },
    {
      "cell_type": "markdown",
      "source": [
        "**Multidimensional array's**"
      ],
      "metadata": {
        "id": "LOVZp-e4YIQm"
      }
    },
    {
      "cell_type": "code",
      "source": [
        "#create a 2d array\n",
        "a = np.array([[1,2,3],[4,5,6]])\n",
        "print(a.ndim)\n",
        "print(a)"
      ],
      "metadata": {
        "colab": {
          "base_uri": "https://localhost:8080/"
        },
        "id": "Jy7tBkMdYMtv",
        "outputId": "9a4e0158-5075-4411-935e-82a6e6ecd951"
      },
      "execution_count": null,
      "outputs": [
        {
          "output_type": "stream",
          "name": "stdout",
          "text": [
            "2\n",
            "[[1 2 3]\n",
            " [4 5 6]]\n"
          ]
        }
      ]
    },
    {
      "cell_type": "code",
      "source": [
        "print(a.itemsize)\n",
        "print(a.shape)"
      ],
      "metadata": {
        "colab": {
          "base_uri": "https://localhost:8080/"
        },
        "id": "neeN1rx5YwPC",
        "outputId": "0aacde1a-f282-483f-93ec-dd5862f7f327"
      },
      "execution_count": null,
      "outputs": [
        {
          "output_type": "stream",
          "name": "stdout",
          "text": [
            "8\n",
            "(2, 3)\n"
          ]
        }
      ]
    },
    {
      "cell_type": "code",
      "source": [
        "#How can i access the elements from array?\n",
        "#by using the index position number we can acces elemnts in array\n",
        "#array[row_index value, column index value]\n",
        "a = np.array([[1,2,3],[4,5,6]])\n",
        "print(a[0])"
      ],
      "metadata": {
        "colab": {
          "base_uri": "https://localhost:8080/"
        },
        "id": "w26FjHifZCtW",
        "outputId": "f3cf78a6-9e8b-4b07-fdf6-c0a408350231"
      },
      "execution_count": null,
      "outputs": [
        {
          "output_type": "stream",
          "name": "stdout",
          "text": [
            "[1 2 3]\n"
          ]
        }
      ]
    },
    {
      "cell_type": "code",
      "source": [
        "b = np.array([[1,2,3],[4,5,6],[7,8,9]])\n",
        "print(b)"
      ],
      "metadata": {
        "colab": {
          "base_uri": "https://localhost:8080/"
        },
        "id": "nM2ekjYuZnPy",
        "outputId": "6911cb4d-ae24-446b-fa99-5a180e3725f1"
      },
      "execution_count": null,
      "outputs": [
        {
          "output_type": "stream",
          "name": "stdout",
          "text": [
            "[[1 2 3]\n",
            " [4 5 6]\n",
            " [7 8 9]]\n"
          ]
        }
      ]
    },
    {
      "cell_type": "code",
      "source": [
        "#if i want to access the particular value from particular column and row\n",
        "print(b[1,1])\n",
        "print(b[1][1])\n",
        "#print the \"9\" from above array\n",
        "print(b[2,2])\n",
        "print(b[2][2])"
      ],
      "metadata": {
        "id": "RYT8lq52Z72u"
      },
      "execution_count": null,
      "outputs": []
    },
    {
      "cell_type": "code",
      "source": [
        "#slicing:- accessing the range of characters\n",
        "b = np.array([[1,2,3],[4,5,6],[7,8,9]])\n",
        "print(b)\n",
        "#i want to print the values present at 1st column\n",
        "print(b[:,0])\n",
        "#print all the column values in row zero\n",
        "print(b[0])\n",
        "# 0r the below one bothe are same\n",
        "print(b[0,:])"
      ],
      "metadata": {
        "id": "6HDDIdkhdPvN"
      },
      "execution_count": null,
      "outputs": []
    },
    {
      "cell_type": "markdown",
      "source": [
        "**Transpose**--> change rows in to columns and columns in to rows"
      ],
      "metadata": {
        "id": "P3tckIT2fO2u"
      }
    },
    {
      "cell_type": "code",
      "source": [
        "h = np.array([[1,2,3],[4,5,6]])\n",
        "print(h.shape)"
      ],
      "metadata": {
        "colab": {
          "base_uri": "https://localhost:8080/"
        },
        "id": "NIpZU7cefWIh",
        "outputId": "faee8b04-cf2a-4c9d-de2a-eef5fcd15d72"
      },
      "execution_count": null,
      "outputs": [
        {
          "output_type": "stream",
          "name": "stdout",
          "text": [
            "(2, 3)\n"
          ]
        }
      ]
    },
    {
      "cell_type": "code",
      "source": [
        "u = h.T\n",
        "print(u)"
      ],
      "metadata": {
        "colab": {
          "base_uri": "https://localhost:8080/"
        },
        "id": "DKbbJtETgB7Q",
        "outputId": "640a4860-665f-4c60-b881-828c33759b6e"
      },
      "execution_count": null,
      "outputs": [
        {
          "output_type": "stream",
          "name": "stdout",
          "text": [
            "[[1 4]\n",
            " [2 5]\n",
            " [3 6]]\n"
          ]
        }
      ]
    },
    {
      "cell_type": "markdown",
      "source": [
        "**Mtarix Multiplication**"
      ],
      "metadata": {
        "id": "IF2z4J7bgO8t"
      }
    },
    {
      "cell_type": "code",
      "source": [
        "a = np.array([[1,2],[3,4]])\n",
        "b = np.array([[3,4],[5,6]])\n",
        "#Note:- to apply matrix multiplication the arrays hasto be in same shape\n",
        "c = a.dot(b)\n",
        "print(c)\n",
        "#print(a*b)   #element wise multiplication"
      ],
      "metadata": {
        "colab": {
          "base_uri": "https://localhost:8080/"
        },
        "id": "R6eY4YsWgR8W",
        "outputId": "d42b2838-39c6-42a8-d25c-14d4b0a8b813"
      },
      "execution_count": null,
      "outputs": [
        {
          "output_type": "stream",
          "name": "stdout",
          "text": [
            "[[13 16]\n",
            " [29 36]]\n",
            "[[ 3  8]\n",
            " [15 24]]\n"
          ]
        }
      ]
    },
    {
      "cell_type": "code",
      "source": [
        "#broadcasting method:-\n",
        "a = np.array([[1,2],[3,4]])\n",
        "b = np.array([[2]])\n",
        "print(a*b)"
      ],
      "metadata": {
        "colab": {
          "base_uri": "https://localhost:8080/"
        },
        "id": "aYYuDcB8ig8o",
        "outputId": "9fabb457-0a01-4ee2-ece7-2665e93db1f4"
      },
      "execution_count": null,
      "outputs": [
        {
          "output_type": "stream",
          "name": "stdout",
          "text": [
            "[[2 4]\n",
            " [6 8]]\n"
          ]
        }
      ]
    },
    {
      "cell_type": "code",
      "source": [
        "d = np.array([[4,5,6],[7,8,9]])\n",
        "h = d.dot(b)      #inner dimesions has to be matched\n",
        "print(h)"
      ],
      "metadata": {
        "id": "syPPcF_WjGWx"
      },
      "execution_count": null,
      "outputs": []
    },
    {
      "cell_type": "code",
      "source": [
        "A = d.T\n",
        "A"
      ],
      "metadata": {
        "colab": {
          "base_uri": "https://localhost:8080/"
        },
        "id": "fHiYEukJjtBM",
        "outputId": "29524d73-438d-427c-a5ab-9620201b55bd"
      },
      "execution_count": null,
      "outputs": [
        {
          "output_type": "execute_result",
          "data": {
            "text/plain": [
              "array([[4, 7],\n",
              "       [5, 8],\n",
              "       [6, 9]])"
            ]
          },
          "metadata": {},
          "execution_count": 36
        }
      ]
    },
    {
      "cell_type": "code",
      "source": [
        "H = A.dot(b)\n",
        "print(H)"
      ],
      "metadata": {
        "id": "XEgF_uvlj0f1"
      },
      "execution_count": null,
      "outputs": []
    },
    {
      "cell_type": "code",
      "source": [
        "#Note:- when we apply the dot product for 2d array it has to be in same shape"
      ],
      "metadata": {
        "id": "KbADi-H2kC0f"
      },
      "execution_count": null,
      "outputs": []
    },
    {
      "cell_type": "code",
      "source": [
        "a = np.array([[1,2],[3,4]])\n",
        "b = np.array([1,2])\n",
        "c = a.dot(b)\n",
        "print(c)"
      ],
      "metadata": {
        "colab": {
          "base_uri": "https://localhost:8080/"
        },
        "id": "AGISwhPXkQvn",
        "outputId": "9e9e0cd7-5513-4a88-b77b-fcb64af3f541"
      },
      "execution_count": null,
      "outputs": [
        {
          "output_type": "stream",
          "name": "stdout",
          "text": [
            "[ 5 11]\n"
          ]
        }
      ]
    },
    {
      "cell_type": "markdown",
      "source": [
        "**determinent**"
      ],
      "metadata": {
        "id": "a38m6oASnK13"
      }
    },
    {
      "cell_type": "code",
      "source": [
        "a = np.array([[1,2],[3,4]])\n",
        "#find the det of a\n",
        "#use   'np.linalg.det'\n",
        "c = np.linalg.det(a)\n",
        "print(c)\n",
        "#determinent  --->  [(1x4)- (2x3)]"
      ],
      "metadata": {
        "colab": {
          "base_uri": "https://localhost:8080/"
        },
        "id": "vbDpfw-ynOEl",
        "outputId": "d076fe51-a9ab-4828-82ca-f0faab8344f8"
      },
      "execution_count": null,
      "outputs": [
        {
          "output_type": "stream",
          "name": "stdout",
          "text": [
            "-2.0000000000000004\n"
          ]
        }
      ]
    },
    {
      "cell_type": "markdown",
      "source": [
        "**inverse**"
      ],
      "metadata": {
        "id": "tsvkoY7kn465"
      }
    },
    {
      "cell_type": "code",
      "source": [
        "a = np.array([[1,2],[3,4]])\n",
        "d = np.linalg.inv(a)\n",
        "print(d)"
      ],
      "metadata": {
        "colab": {
          "base_uri": "https://localhost:8080/"
        },
        "id": "hTbKMNF6n7G4",
        "outputId": "d7bc3c8a-9014-4071-f4ee-3d4d25cb167d"
      },
      "execution_count": null,
      "outputs": [
        {
          "output_type": "stream",
          "name": "stdout",
          "text": [
            "[[-2.   1. ]\n",
            " [ 1.5 -0.5]]\n"
          ]
        }
      ]
    },
    {
      "cell_type": "markdown",
      "source": [
        "**diagonal**"
      ],
      "metadata": {
        "id": "w4qeECIboIVB"
      }
    },
    {
      "cell_type": "code",
      "source": [
        "c = np.diag(a)\n",
        "print(c)"
      ],
      "metadata": {
        "colab": {
          "base_uri": "https://localhost:8080/"
        },
        "id": "ZIso1peCoKgZ",
        "outputId": "22b4357c-9641-4c2d-84dd-3e57a2bf6645"
      },
      "execution_count": null,
      "outputs": [
        {
          "output_type": "stream",
          "name": "stdout",
          "text": [
            "[1 4]\n"
          ]
        }
      ]
    },
    {
      "cell_type": "code",
      "source": [
        "#diagonal on a vector returns diagonal matrix\n",
        "d = np.diag([1,4])\n",
        "print(d)"
      ],
      "metadata": {
        "colab": {
          "base_uri": "https://localhost:8080/"
        },
        "id": "cR3TwqVzoUVQ",
        "outputId": "5106c71d-446c-4d36-8e95-e64860bca995"
      },
      "execution_count": null,
      "outputs": [
        {
          "output_type": "stream",
          "name": "stdout",
          "text": [
            "[[1 0]\n",
            " [0 4]]\n"
          ]
        }
      ]
    },
    {
      "cell_type": "markdown",
      "source": [
        "**Boolean indexing**"
      ],
      "metadata": {
        "id": "p-jYWhLso7kE"
      }
    },
    {
      "cell_type": "code",
      "source": [
        "a = np.array([[1,2,3,4],[5,6,7,8],[9,10,11,12]])\n",
        "print(a.ndim)\n",
        "print(a.shape)\n",
        "print(a)\n",
        "print(a[:,1])"
      ],
      "metadata": {
        "colab": {
          "base_uri": "https://localhost:8080/"
        },
        "id": "Rkj4BiH5o-hw",
        "outputId": "47d280ac-d82d-4680-aa2b-2b740fa42a88"
      },
      "execution_count": null,
      "outputs": [
        {
          "output_type": "stream",
          "name": "stdout",
          "text": [
            "2\n",
            "(3, 4)\n",
            "[[ 1  2  3  4]\n",
            " [ 5  6  7  8]\n",
            " [ 9 10 11 12]]\n",
            "[ 2  6 10]\n"
          ]
        }
      ]
    },
    {
      "cell_type": "code",
      "source": [
        "#print the elements greater than 2 from above array\n",
        "print(a[a>2])"
      ],
      "metadata": {
        "colab": {
          "base_uri": "https://localhost:8080/"
        },
        "id": "nom2PXPPpbYP",
        "outputId": "2387dbb0-ac23-4183-aec1-868d06bbf9f2"
      },
      "execution_count": null,
      "outputs": [
        {
          "output_type": "stream",
          "name": "stdout",
          "text": [
            "[ 3  4  5  6  7  8  9 10 11 12]\n"
          ]
        }
      ]
    },
    {
      "cell_type": "code",
      "source": [
        "#HOW WE CAN APPLY CONDITION IN ARRAY?\n",
        "#np.where(condition, true, false)\n",
        "b = np.where(a>2, a, -1)\n",
        "print(b)"
      ],
      "metadata": {
        "colab": {
          "base_uri": "https://localhost:8080/"
        },
        "id": "ZIpULSYTpyiD",
        "outputId": "2e567a2f-2d49-46bb-f114-ece3682d43b1"
      },
      "execution_count": null,
      "outputs": [
        {
          "output_type": "stream",
          "name": "stdout",
          "text": [
            "[[-1 -1  3  4]\n",
            " [ 5  6  7  8]\n",
            " [ 9 10 11 12]]\n"
          ]
        }
      ]
    },
    {
      "cell_type": "code",
      "source": [
        "a = np.array([10,20,30,40,50,60,19,30,31,61])\n",
        "#compute indices where the condition is true  . number has to divisible with 2\n",
        "even  = np.argwhere(a%2==0).flatten()\n",
        "print(even)\n",
        "#you want to see the values\n",
        "a_even = a[even]\n",
        "print(a_even)"
      ],
      "metadata": {
        "colab": {
          "base_uri": "https://localhost:8080/"
        },
        "id": "BO6EjK7pqTiS",
        "outputId": "f1759ffb-0c4d-4202-a96b-40d83e8e4b50"
      },
      "execution_count": null,
      "outputs": [
        {
          "output_type": "stream",
          "name": "stdout",
          "text": [
            "[0 1 2 3 4 5 7]\n",
            "[10 20 30 40 50 60 30]\n"
          ]
        }
      ]
    },
    {
      "cell_type": "markdown",
      "source": [
        "**07-01-2025**"
      ],
      "metadata": {
        "id": "MuOeMfQli_5f"
      }
    },
    {
      "cell_type": "code",
      "source": [
        "\"\"\"revision\n",
        "1. Numpy array differences\n",
        "2. why numpy arrays are faster\n",
        "3. DOT product with 1d array and 2d array\n",
        "4. how to explore an arrays?\n",
        "     a.np.shape\n",
        "     b.np.ndim\n",
        "     c.np.size\n",
        "     d.np.dtypes\n",
        "     c.np.itemsize\n",
        "5.Boolean indexing, broadcasting, transpose,dia,np.linalg.det(), np.linalg.inv()\n",
        "     \"\"\"\n"
      ],
      "metadata": {
        "colab": {
          "base_uri": "https://localhost:8080/",
          "height": 54
        },
        "id": "Bj5olNjyjDcC",
        "outputId": "36bcc73f-6eff-4188-df0a-d4ea472a63c1"
      },
      "execution_count": null,
      "outputs": [
        {
          "output_type": "execute_result",
          "data": {
            "text/plain": [
              "'revision\\n1. Numpy array differences\\n2. why numpy arrays are faster \\n3. DOT product with 1d array and 2d array\\n4. how to explore an arrays?\\n     a.np.shape\\n     b.np.ndim\\n     c.np.size\\n     d.np.dtypes\\n     c.np.itemsize\\n5.Boolean indexing, broadcasting, transpose     '"
            ],
            "application/vnd.google.colaboratory.intrinsic+json": {
              "type": "string"
            }
          },
          "metadata": {},
          "execution_count": 2
        }
      ]
    },
    {
      "cell_type": "markdown",
      "source": [
        "#Reshaping of an array"
      ],
      "metadata": {
        "id": "VNLOIT5zksGD"
      }
    },
    {
      "cell_type": "code",
      "source": [
        "#create an array of range of 1 to 7\n",
        "import numpy as np"
      ],
      "metadata": {
        "id": "4_1jrTUhjmuR"
      },
      "execution_count": null,
      "outputs": []
    },
    {
      "cell_type": "code",
      "source": [
        "a = np.arange(1,7)\n",
        "print(a)"
      ],
      "metadata": {
        "colab": {
          "base_uri": "https://localhost:8080/"
        },
        "id": "z6KjDB1tk_Ka",
        "outputId": "4dd2710f-0ed3-46a8-a56f-cfbfc0da350d"
      },
      "execution_count": null,
      "outputs": [
        {
          "output_type": "stream",
          "name": "stdout",
          "text": [
            "[1 2 3 4 5 6]\n"
          ]
        }
      ]
    },
    {
      "cell_type": "code",
      "source": [
        "#reshape the above array in to 2 rows and 3 columns?\n",
        "b = a.reshape(2,3)\n",
        "print(b)"
      ],
      "metadata": {
        "colab": {
          "base_uri": "https://localhost:8080/"
        },
        "id": "ont-FXaelLYV",
        "outputId": "9df65542-222e-4da6-aabf-677835770106"
      },
      "execution_count": null,
      "outputs": [
        {
          "output_type": "stream",
          "name": "stdout",
          "text": [
            "[[1 2 3]\n",
            " [4 5 6]]\n"
          ]
        }
      ]
    },
    {
      "cell_type": "markdown",
      "source": [
        "**New axis**"
      ],
      "metadata": {
        "id": "QWrHdwhrlt0q"
      }
    },
    {
      "cell_type": "code",
      "source": [
        "#new axis:- used to create new axis  in the data\n",
        "print(a.shape)\n",
        "d = a[np.newaxis,:]\n",
        "print(d)"
      ],
      "metadata": {
        "colab": {
          "base_uri": "https://localhost:8080/"
        },
        "id": "zgHR4PCdlrYY",
        "outputId": "1b60a265-c6da-4d48-8ad8-8760e4fb3bc6"
      },
      "execution_count": null,
      "outputs": [
        {
          "output_type": "stream",
          "name": "stdout",
          "text": [
            "(6,)\n",
            "[[1 2 3 4 5 6]]\n"
          ]
        }
      ]
    },
    {
      "cell_type": "code",
      "source": [
        "d.shape"
      ],
      "metadata": {
        "colab": {
          "base_uri": "https://localhost:8080/"
        },
        "id": "1czkg7k_mcO7",
        "outputId": "dd72c059-e084-49f1-fecb-2dbe3963ef53"
      },
      "execution_count": null,
      "outputs": [
        {
          "output_type": "execute_result",
          "data": {
            "text/plain": [
              "(1, 6)"
            ]
          },
          "metadata": {},
          "execution_count": 10
        }
      ]
    },
    {
      "cell_type": "code",
      "source": [
        "e = a[:,np.newaxis]\n",
        "print(e)\n",
        "e.shape"
      ],
      "metadata": {
        "colab": {
          "base_uri": "https://localhost:8080/"
        },
        "id": "omVjXkofmnLX",
        "outputId": "d7552516-447c-433b-a3a9-4d9fdc2f722f"
      },
      "execution_count": null,
      "outputs": [
        {
          "output_type": "stream",
          "name": "stdout",
          "text": [
            "[[1]\n",
            " [2]\n",
            " [3]\n",
            " [4]\n",
            " [5]\n",
            " [6]]\n"
          ]
        },
        {
          "output_type": "execute_result",
          "data": {
            "text/plain": [
              "(6, 1)"
            ]
          },
          "metadata": {},
          "execution_count": 12
        }
      ]
    },
    {
      "cell_type": "code",
      "source": [
        "#whay we are using np.newaxis?\n",
        "#needed when the model requiresthe data to be shaped in a certain manner\n",
        "#Note:- Transpose can be applicable for 2d_array"
      ],
      "metadata": {
        "id": "WJhasu34nZ3A"
      },
      "execution_count": null,
      "outputs": []
    },
    {
      "cell_type": "markdown",
      "source": [
        "#Concatenation"
      ],
      "metadata": {
        "id": "P3IUl_rhnyiE"
      }
    },
    {
      "cell_type": "code",
      "source": [
        "a = np.array([[1,2],[3,4]])\n",
        "b = np.array([[5,6],[7,8]])\n",
        "c = np.array([[9,10],[11,12]])\n",
        "#combine or concatenate the above 2 arrays in 1d-Array\n",
        "c = np.concatenate((a,b,c),axis = 0)\n",
        "print(c)\n",
        "\"\"\"Note:  1. when 'axis= None' it returns 1d array\n",
        "          2. when 'axis = 0' it adds second array values in to rows wise\n",
        "          3. when 'axis = 1' it adds the second array values in to columns side by side\"\"\""
      ],
      "metadata": {
        "id": "Q8T5p86Nn2Q-"
      },
      "execution_count": null,
      "outputs": []
    },
    {
      "cell_type": "code",
      "source": [
        "a = np.array([[1,2],[3,4]])\n",
        "b = np.array([[5,6],[7,8]])\n",
        "c = np.array([[9,10],[11,12]])\n",
        "#combine or concatenate the above 2 arrays in 1d-Array\n",
        "c = np.concatenate((a,b,c),axis = 0)\n",
        "print(c)\n",
        "print(c[2,:])\n",
        "print(c[:,1])"
      ],
      "metadata": {
        "id": "6Tssm1dFpuWN"
      },
      "execution_count": null,
      "outputs": []
    },
    {
      "cell_type": "markdown",
      "source": [
        "**Hstack**"
      ],
      "metadata": {
        "id": "P8hH9JRgrCEj"
      }
    },
    {
      "cell_type": "code",
      "source": [
        "#Hstack:- stack array in sequence horizentally\n",
        "a = np.array([1,2,3,4])\n",
        "b = np.array([5,6,7,8])\n",
        "#c = np.concatenate((a,b),axis=None)\n",
        "c = np.hstack((a,b))\n",
        "print(c)\n",
        "c.shape"
      ],
      "metadata": {
        "colab": {
          "base_uri": "https://localhost:8080/"
        },
        "id": "24MDAwQZrGdp",
        "outputId": "0e6acb51-09d2-4cf9-c193-2aecc1aa8844"
      },
      "execution_count": null,
      "outputs": [
        {
          "output_type": "stream",
          "name": "stdout",
          "text": [
            "[1 2 3 4 5 6 7 8]\n"
          ]
        },
        {
          "output_type": "execute_result",
          "data": {
            "text/plain": [
              "(8,)"
            ]
          },
          "metadata": {},
          "execution_count": 25
        }
      ]
    },
    {
      "cell_type": "markdown",
      "source": [
        "**Vstack**:- add the sequence of tack array's vertically"
      ],
      "metadata": {
        "id": "JeiRnnB_tLSO"
      }
    },
    {
      "cell_type": "code",
      "source": [
        "d = np.vstack((a,b))\n",
        "d"
      ],
      "metadata": {
        "colab": {
          "base_uri": "https://localhost:8080/"
        },
        "id": "WwWnhv-psCxQ",
        "outputId": "3ed302ca-53ca-4ef7-d9d0-8e235647f507"
      },
      "execution_count": null,
      "outputs": [
        {
          "output_type": "execute_result",
          "data": {
            "text/plain": [
              "array([[1, 2, 3, 4],\n",
              "       [5, 6, 7, 8]])"
            ]
          },
          "metadata": {},
          "execution_count": 26
        }
      ]
    },
    {
      "cell_type": "code",
      "source": [
        "d = np.concatenate((a,b),axis = 0)\n",
        "d"
      ],
      "metadata": {
        "colab": {
          "base_uri": "https://localhost:8080/"
        },
        "id": "nuBt_UM2sdHs",
        "outputId": "f02c3223-3034-4b2d-c22b-4fabda210332"
      },
      "execution_count": null,
      "outputs": [
        {
          "output_type": "execute_result",
          "data": {
            "text/plain": [
              "array([1, 2, 3, 4, 5, 6, 7, 8])"
            ]
          },
          "metadata": {},
          "execution_count": 28
        }
      ]
    },
    {
      "cell_type": "code",
      "source": [
        "a = np.array([[1,2],[3,4]])\n",
        "b = np.array([[5,6],[7,8]])\n",
        "d = np.hstack((a,b))\n",
        "d"
      ],
      "metadata": {
        "colab": {
          "base_uri": "https://localhost:8080/"
        },
        "id": "BFzWt1y_s4S6",
        "outputId": "e8bda5ac-79bf-4872-d0e6-f4576e451988"
      },
      "execution_count": null,
      "outputs": [
        {
          "output_type": "execute_result",
          "data": {
            "text/plain": [
              "array([[1, 2, 5, 6],\n",
              "       [3, 4, 7, 8]])"
            ]
          },
          "metadata": {},
          "execution_count": 30
        }
      ]
    },
    {
      "cell_type": "markdown",
      "source": [
        "#copying"
      ],
      "metadata": {
        "id": "3o_QYEh2vOfh"
      }
    },
    {
      "cell_type": "code",
      "source": [
        "a = np.array([1,2,3])\n",
        "b = a\n",
        "b[0] = 32\n",
        "print(a)"
      ],
      "metadata": {
        "colab": {
          "base_uri": "https://localhost:8080/"
        },
        "id": "gV6wZke8vRV0",
        "outputId": "95a692f1-8f5b-471c-a515-6ba09bbeced5"
      },
      "execution_count": null,
      "outputs": [
        {
          "output_type": "stream",
          "name": "stdout",
          "text": [
            "[32  2  3]\n"
          ]
        }
      ]
    },
    {
      "cell_type": "code",
      "source": [
        "a = np.array([1,2,3])\n",
        "b = a.copy()\n",
        "b[0] = 6\n",
        "print(a)\n",
        "#By using copy() if you make any chnages to new array the old array does not change"
      ],
      "metadata": {
        "colab": {
          "base_uri": "https://localhost:8080/"
        },
        "id": "qnendXwbvf0p",
        "outputId": "482e5a3d-4976-466e-c440-6764a59a4b63"
      },
      "execution_count": null,
      "outputs": [
        {
          "output_type": "stream",
          "name": "stdout",
          "text": [
            "[1 2 3]\n"
          ]
        }
      ]
    },
    {
      "cell_type": "markdown",
      "source": [
        "**Data Types**"
      ],
      "metadata": {
        "id": "ZOmA9O_iwHD8"
      }
    },
    {
      "cell_type": "code",
      "source": [
        "#How can you find data types in the array?\n",
        "a = np.array([1,2,3])\n",
        "a.dtype"
      ],
      "metadata": {
        "colab": {
          "base_uri": "https://localhost:8080/"
        },
        "id": "wz7igIMiwM2v",
        "outputId": "8e57d916-a51b-4b9d-b47b-6922b85e3b47"
      },
      "execution_count": null,
      "outputs": [
        {
          "output_type": "execute_result",
          "data": {
            "text/plain": [
              "dtype('int64')"
            ]
          },
          "metadata": {},
          "execution_count": 34
        }
      ]
    },
    {
      "cell_type": "code",
      "source": [
        "#store the above array in 32bits\n",
        "#How can you find data types in the array?\n",
        "a = np.array([1,2,3],dtype = np.int32)\n",
        "a.dtype"
      ],
      "metadata": {
        "colab": {
          "base_uri": "https://localhost:8080/"
        },
        "id": "reEHauv5w8Wi",
        "outputId": "089c1f4a-43a0-409b-d0a9-26a1eebf12c7"
      },
      "execution_count": null,
      "outputs": [
        {
          "output_type": "execute_result",
          "data": {
            "text/plain": [
              "dtype('int32')"
            ]
          },
          "metadata": {},
          "execution_count": 35
        }
      ]
    },
    {
      "cell_type": "code",
      "source": [
        "#convert the data in to float\n",
        "a = np.array([1,2,3],dtype = np.float32)\n",
        "a.dtype\n",
        "a"
      ],
      "metadata": {
        "colab": {
          "base_uri": "https://localhost:8080/"
        },
        "id": "saIJz_OHxVR8",
        "outputId": "918dd0f8-a45a-4259-bfbc-82df3b2b3397"
      },
      "execution_count": null,
      "outputs": [
        {
          "output_type": "execute_result",
          "data": {
            "text/plain": [
              "array([1., 2., 3.], dtype=float32)"
            ]
          },
          "metadata": {},
          "execution_count": 37
        }
      ]
    },
    {
      "cell_type": "markdown",
      "source": [
        "#Generating Arrays"
      ],
      "metadata": {
        "id": "bkgzpRBryfzc"
      }
    },
    {
      "cell_type": "code",
      "source": [
        "#generate an array of zeros which is having  2 rows and 3 cols?\n",
        "a = np.zeros((2,3))\n",
        "print(a)"
      ],
      "metadata": {
        "colab": {
          "base_uri": "https://localhost:8080/"
        },
        "id": "phZS2kYbyjFw",
        "outputId": "b4eea2ef-4fa1-404a-c99f-a8511b5ab296"
      },
      "execution_count": null,
      "outputs": [
        {
          "output_type": "stream",
          "name": "stdout",
          "text": [
            "[[0. 0. 0.]\n",
            " [0. 0. 0.]]\n"
          ]
        }
      ]
    },
    {
      "cell_type": "code",
      "source": [
        "#generate an array of ones which is having 2 rows and 3 columns\n",
        "b = np.ones((2,3))\n",
        "b"
      ],
      "metadata": {
        "colab": {
          "base_uri": "https://localhost:8080/"
        },
        "id": "m2U9qzO_zJ8w",
        "outputId": "a3aaff1b-d9a9-4900-9489-2c90cb23a9af"
      },
      "execution_count": null,
      "outputs": [
        {
          "output_type": "execute_result",
          "data": {
            "text/plain": [
              "array([[1., 1., 1.],\n",
              "       [1., 1., 1.]])"
            ]
          },
          "metadata": {},
          "execution_count": 39
        }
      ]
    },
    {
      "cell_type": "code",
      "source": [
        "#generate an array of specific number with specific rows and values\n",
        "c = np.full((3,3),5)\n",
        "c"
      ],
      "metadata": {
        "colab": {
          "base_uri": "https://localhost:8080/"
        },
        "id": "iNQABbpgzVxP",
        "outputId": "9e4d8342-67df-4063-db2d-460768679c5f"
      },
      "execution_count": null,
      "outputs": [
        {
          "output_type": "execute_result",
          "data": {
            "text/plain": [
              "array([[5, 5, 5],\n",
              "       [5, 5, 5],\n",
              "       [5, 5, 5]])"
            ]
          },
          "metadata": {},
          "execution_count": 40
        }
      ]
    },
    {
      "cell_type": "code",
      "source": [
        "#genrate an identity matrix\n",
        "d = np.eye(2)\n",
        "d"
      ],
      "metadata": {
        "colab": {
          "base_uri": "https://localhost:8080/"
        },
        "id": "etyuFit6znHW",
        "outputId": "8b8146ee-99b1-4325-a921-239674d3224d"
      },
      "execution_count": null,
      "outputs": [
        {
          "output_type": "execute_result",
          "data": {
            "text/plain": [
              "array([[1., 0.],\n",
              "       [0., 1.]])"
            ]
          },
          "metadata": {},
          "execution_count": 42
        }
      ]
    },
    {
      "cell_type": "code",
      "source": [
        "#generate an array of numbers up to 10\n",
        "e = np.arange(1,11)\n",
        "print(e)"
      ],
      "metadata": {
        "colab": {
          "base_uri": "https://localhost:8080/"
        },
        "id": "eFlfqMDSzx4M",
        "outputId": "25072928-f8a4-4439-dcb2-092c683e87ea"
      },
      "execution_count": null,
      "outputs": [
        {
          "output_type": "stream",
          "name": "stdout",
          "text": [
            "[ 1  2  3  4  5  6  7  8  9 10]\n"
          ]
        }
      ]
    },
    {
      "cell_type": "code",
      "source": [
        "#linspace:- splits the data in to equal parts\n",
        "h = np.linspace(0,10,5)\n",
        "#np.lionspace(start,end,split_count)\n",
        "h"
      ],
      "metadata": {
        "colab": {
          "base_uri": "https://localhost:8080/"
        },
        "id": "cJgrrEpu0Cha",
        "outputId": "137bff44-0a41-4f09-cc78-95319e2ddbdb"
      },
      "execution_count": null,
      "outputs": [
        {
          "output_type": "execute_result",
          "data": {
            "text/plain": [
              "array([ 0. ,  2.5,  5. ,  7.5, 10. ])"
            ]
          },
          "metadata": {},
          "execution_count": 45
        }
      ]
    },
    {
      "cell_type": "markdown",
      "source": [
        "**08-01-2025**"
      ],
      "metadata": {
        "id": "sQuQjASPo8uX"
      }
    },
    {
      "cell_type": "code",
      "source": [
        "import numpy as np"
      ],
      "metadata": {
        "id": "ht53BWDeo__i"
      },
      "execution_count": null,
      "outputs": []
    },
    {
      "cell_type": "code",
      "source": [
        "d = np.eye(3)\n",
        "print(d)\n"
      ],
      "metadata": {
        "colab": {
          "base_uri": "https://localhost:8080/"
        },
        "id": "nvxDNmPJqtWQ",
        "outputId": "ec1068b4-bc65-4230-eb8c-1b45b67c355f"
      },
      "execution_count": null,
      "outputs": [
        {
          "output_type": "stream",
          "name": "stdout",
          "text": [
            "[[1. 0. 0.]\n",
            " [0. 1. 0.]\n",
            " [0. 0. 1.]]\n"
          ]
        }
      ]
    },
    {
      "cell_type": "code",
      "source": [
        "a = np.identity(3)\n",
        "print(a)"
      ],
      "metadata": {
        "colab": {
          "base_uri": "https://localhost:8080/"
        },
        "id": "Cxx6scLYqxuk",
        "outputId": "932714cc-1d34-4a19-ac7d-3f07c1c9416d"
      },
      "execution_count": null,
      "outputs": [
        {
          "output_type": "stream",
          "name": "stdout",
          "text": [
            "[[1. 0. 0.]\n",
            " [0. 1. 0.]\n",
            " [0. 0. 1.]]\n"
          ]
        }
      ]
    },
    {
      "cell_type": "code",
      "source": [
        "#numpy.eye(N, M=None, k=0, dtype=<class 'float'>, order='C', *, device=None, like=None)\n",
        "#N---> rows\n",
        "#M --> Count of columns\n",
        "#K --> index from where the '1' can be set in column index\n",
        "#print a matrix with 3*5 idetntity matrix\n",
        "b = np.eye(5,M=5,k=0)\n",
        "print(b)"
      ],
      "metadata": {
        "colab": {
          "base_uri": "https://localhost:8080/"
        },
        "id": "QOzGOmTmrijK",
        "outputId": "1bd62a51-8aef-4e2a-e7aa-b2ef3003c6df"
      },
      "execution_count": null,
      "outputs": [
        {
          "output_type": "stream",
          "name": "stdout",
          "text": [
            "[[1. 0. 0. 0. 0.]\n",
            " [0. 1. 0. 0. 0.]\n",
            " [0. 0. 1. 0. 0.]\n",
            " [0. 0. 0. 1. 0.]\n",
            " [0. 0. 0. 0. 1.]]\n"
          ]
        }
      ]
    },
    {
      "cell_type": "code",
      "source": [
        "#what is the difference between np.identity and np.eye()\n",
        "#Np.idenetity--> return 2D arrray with N*N Matrix\n",
        "#Np.eye()--> return 2D array with N*N matrics and we can customize the nof rows and columns along with index k customisation"
      ],
      "metadata": {
        "id": "Od2DJEPhszZ_"
      },
      "execution_count": null,
      "outputs": []
    },
    {
      "cell_type": "code",
      "source": [
        "#argwhere, argmin,argmax--> returns the indexes\n"
      ],
      "metadata": {
        "id": "rrbQFMGSv4L8"
      },
      "execution_count": null,
      "outputs": []
    },
    {
      "cell_type": "markdown",
      "source": [
        "#Random Numbers"
      ],
      "metadata": {
        "id": "gBhkDGeewGhn"
      }
    },
    {
      "cell_type": "code",
      "source": [
        "#Generate a random numbers uniformly distributed from 0 to 1?\n",
        "a = np.random.random((3,2))\n",
        "print(a)"
      ],
      "metadata": {
        "colab": {
          "base_uri": "https://localhost:8080/"
        },
        "id": "FTy9aD41wJSG",
        "outputId": "537bcd87-e981-4b68-df6c-67685422e77d"
      },
      "execution_count": null,
      "outputs": [
        {
          "output_type": "stream",
          "name": "stdout",
          "text": [
            "[[0.21021959 0.52393732]\n",
            " [0.50132349 0.73108023]\n",
            " [0.8135013  0.07737604]]\n"
          ]
        }
      ]
    },
    {
      "cell_type": "code",
      "source": [
        "#Generate an array which is normally distributed?\n",
        "#Normal distribution means---> mean, median,mode is same, variance is 1\n",
        "b = np.random.randn(3,2)\n",
        "print(b)"
      ],
      "metadata": {
        "colab": {
          "base_uri": "https://localhost:8080/"
        },
        "id": "DyuOXLGTwzs9",
        "outputId": "c15dcece-b930-43dc-c04f-70e6d11fb340"
      },
      "execution_count": null,
      "outputs": [
        {
          "output_type": "stream",
          "name": "stdout",
          "text": [
            "[[-0.35796343  0.43437784]\n",
            " [-0.79373043 -0.77052887]\n",
            " [ 0.86532147  1.08570375]]\n"
          ]
        }
      ]
    },
    {
      "cell_type": "code",
      "source": [
        "print(np.mean(b))\n",
        "print(np.var(b))\n",
        "print(np.std(b))"
      ],
      "metadata": {
        "id": "M2sCd_5rxaif"
      },
      "execution_count": null,
      "outputs": []
    },
    {
      "cell_type": "code",
      "source": [
        "#generate random.randn numbers upto 1000 samples  find the mean,varience and std\n",
        "c = np.random.randn(1000)\n",
        "print(c.mean(),c.var(),c.std())"
      ],
      "metadata": {
        "colab": {
          "base_uri": "https://localhost:8080/"
        },
        "id": "nJgJH-wxx9K-",
        "outputId": "0f6175a4-d8ab-4ba8-8b9e-53828441a692"
      },
      "execution_count": null,
      "outputs": [
        {
          "output_type": "stream",
          "name": "stdout",
          "text": [
            "-0.04030908653345233 1.0122432630911504 1.006103008191085\n"
          ]
        }
      ]
    },
    {
      "cell_type": "code",
      "source": [
        "#generate an random intgers from 10 to 20 in the size of 4*4\n",
        "#random.randint(low, high=None, size=None, dtype=int)\n",
        "d = np.random.randint(10, size = (4,4))\n",
        "print(d)"
      ],
      "metadata": {
        "colab": {
          "base_uri": "https://localhost:8080/"
        },
        "id": "wuVwQZul0EdK",
        "outputId": "4cc777fc-467a-4a72-adbb-fdf19d54b56b"
      },
      "execution_count": null,
      "outputs": [
        {
          "output_type": "stream",
          "name": "stdout",
          "text": [
            "[[5 4 4 4]\n",
            " [6 9 2 6]\n",
            " [7 4 0 9]\n",
            " [1 5 8 7]]\n"
          ]
        }
      ]
    },
    {
      "cell_type": "code",
      "source": [
        "d = np.random.randint(10,20,size=(4,4))\n",
        "print(d)"
      ],
      "metadata": {
        "id": "fQ7R6YjR02X5"
      },
      "execution_count": null,
      "outputs": []
    },
    {
      "cell_type": "code",
      "source": [
        "#generate a number up to 6 and divide in to size of 10\n",
        "e = np.random.choice(7,size=10)\n",
        "print(e)"
      ],
      "metadata": {
        "colab": {
          "base_uri": "https://localhost:8080/"
        },
        "id": "oFaRHtrB1XnS",
        "outputId": "5aa13015-e7da-4b8d-e5ec-5b779437a636"
      },
      "execution_count": null,
      "outputs": [
        {
          "output_type": "stream",
          "name": "stdout",
          "text": [
            "[4 4 3 0 2 3 6 0 2 5]\n"
          ]
        }
      ]
    },
    {
      "cell_type": "code",
      "source": [
        "l = np.random.choice([1,2,3,4],size = 10)\n",
        "print(l)"
      ],
      "metadata": {
        "colab": {
          "base_uri": "https://localhost:8080/"
        },
        "id": "o055eGwc1-Tf",
        "outputId": "35e87a46-e363-45ad-cb30-686845cd46ad"
      },
      "execution_count": null,
      "outputs": [
        {
          "output_type": "stream",
          "name": "stdout",
          "text": [
            "[3 1 3 3 1 1 2 2 1 1]\n"
          ]
        }
      ]
    },
    {
      "cell_type": "markdown",
      "source": [
        "**solving linear equations**"
      ],
      "metadata": {
        "id": "Vd4YtVga3Hve"
      }
    },
    {
      "cell_type": "code",
      "source": [
        "#2x1 + 3y1 = 0\n",
        "#6x + 12y  = 5\n",
        "a = np.array([[2,3],[6,12]])\n",
        "b = np.array([0,5])\n",
        "#  ax = B <==>  x = a**-1 b\n",
        "x = np.linalg.inv(a).dot(b)\n",
        "print(x)"
      ],
      "metadata": {
        "colab": {
          "base_uri": "https://localhost:8080/"
        },
        "id": "a9IU-yl23Mfz",
        "outputId": "44c8fd2a-3bef-4445-a664-18465a412aae"
      },
      "execution_count": null,
      "outputs": [
        {
          "output_type": "stream",
          "name": "stdout",
          "text": [
            "[-2.5         1.66666667]\n"
          ]
        }
      ]
    },
    {
      "cell_type": "code",
      "source": [
        "#instead use another method\n",
        "x = np.linalg.solve(a,b)\n",
        "print(x)"
      ],
      "metadata": {
        "colab": {
          "base_uri": "https://localhost:8080/"
        },
        "id": "Glfx_nkQ4Hh1",
        "outputId": "4b9c9a34-6c4f-4759-911d-9e2bb5e66299"
      },
      "execution_count": null,
      "outputs": [
        {
          "output_type": "stream",
          "name": "stdout",
          "text": [
            "[-2.5         1.66666667]\n"
          ]
        }
      ]
    },
    {
      "cell_type": "markdown",
      "source": [
        "**09-10-2025**"
      ],
      "metadata": {
        "id": "9pCVw432zx87"
      }
    },
    {
      "cell_type": "markdown",
      "source": [
        "#Overall revision"
      ],
      "metadata": {
        "id": "hqnlloiEz1j5"
      }
    },
    {
      "cell_type": "code",
      "source": [
        "#what is a numpy?\n",
        "#How do you create a 1d array?\n",
        "import numpy as np\n",
        "arr = np.array([1,2,3,4])\n",
        "print(arr.ndim)"
      ],
      "metadata": {
        "colab": {
          "base_uri": "https://localhost:8080/"
        },
        "id": "SFr_ZLX90DKv",
        "outputId": "0f29ebcb-7612-4c6d-d08b-38166557e04d"
      },
      "execution_count": null,
      "outputs": [
        {
          "output_type": "stream",
          "name": "stdout",
          "text": [
            "1\n"
          ]
        }
      ]
    },
    {
      "cell_type": "code",
      "source": [
        "#what is difference between a list and Numpy array?\n",
        "#arrays we cannot add extram items to exisiting array\n",
        "#where as in list we can add new items to exiting list\n",
        "#array's are having fixed memory\n",
        "#arrays are homogenous and list is heterogenous"
      ],
      "metadata": {
        "id": "L9bqgYFA0oBh"
      },
      "execution_count": null,
      "outputs": []
    },
    {
      "cell_type": "code",
      "source": [
        "#How do you check the shape and size of an numpy array?\n",
        "\"\"\" np.size\n",
        "    np.shape\"\"\""
      ],
      "metadata": {
        "id": "AwSBrABV1N6k"
      },
      "execution_count": null,
      "outputs": []
    },
    {
      "cell_type": "code",
      "source": [
        "#How do you reshape an array?\n",
        "a = np.array([1,2,3,4,5,6])\n",
        "#change the above array in to 3 rows and 2 columns\n",
        "b = a.reshape(3,2)\n",
        "print(b)"
      ],
      "metadata": {
        "colab": {
          "base_uri": "https://localhost:8080/"
        },
        "id": "6slPxVZd1ZRW",
        "outputId": "3078a70a-f849-4ae8-d7ad-f9dd0f6fdfd5"
      },
      "execution_count": null,
      "outputs": [
        {
          "output_type": "stream",
          "name": "stdout",
          "text": [
            "[[1 2]\n",
            " [3 4]\n",
            " [5 6]]\n"
          ]
        }
      ]
    },
    {
      "cell_type": "code",
      "source": [
        "#How do you create an array of all zeros and all ones?\n",
        "a = np.zeros((3,2))\n",
        "print(a)\n",
        "b = np.ones((4,4))\n",
        "print(b)"
      ],
      "metadata": {
        "colab": {
          "base_uri": "https://localhost:8080/"
        },
        "id": "5UTvUQuC1qkf",
        "outputId": "f12f1aef-c73e-489f-8072-3779d57a72c3"
      },
      "execution_count": null,
      "outputs": [
        {
          "output_type": "stream",
          "name": "stdout",
          "text": [
            "[[0. 0.]\n",
            " [0. 0.]\n",
            " [0. 0.]]\n",
            "[[1. 1. 1. 1.]\n",
            " [1. 1. 1. 1.]\n",
            " [1. 1. 1. 1.]\n",
            " [1. 1. 1. 1.]]\n"
          ]
        }
      ]
    },
    {
      "cell_type": "code",
      "source": [
        "#what is broad casting in Numpy?\n",
        "#it allows the arthematic operation between arrays of different sizes\n",
        "a = np.array([[1,2,3,4],[5,6,7,8]])\n",
        "b = np.array([2])\n",
        "print(a*b)   # try -->   +,-,%,**"
      ],
      "metadata": {
        "colab": {
          "base_uri": "https://localhost:8080/"
        },
        "id": "pyjyFBD92GUJ",
        "outputId": "32d70d1f-5451-4e8e-df00-350423ef2dab"
      },
      "execution_count": null,
      "outputs": [
        {
          "output_type": "stream",
          "name": "stdout",
          "text": [
            "[[ 2  4  6  8]\n",
            " [10 12 14 16]]\n"
          ]
        }
      ]
    },
    {
      "cell_type": "code",
      "source": [
        "#how can find the mean,median, std?\n",
        "a = np.array([[1,2,3,4],[5,6,7,8]])\n",
        "print(np.mean(a))\n",
        "\n",
        "b = np.array([1,2,3,4,5,6,7,9])\n",
        "print(np.median(b))\n",
        "\n",
        "print('std for array a:',np.std(a))\n",
        "print('std for array b:',np.std(b))"
      ],
      "metadata": {
        "colab": {
          "base_uri": "https://localhost:8080/"
        },
        "id": "vItwk0Z72kkD",
        "outputId": "ef874ce2-e394-4baf-b24d-2c2c839c0ab4"
      },
      "execution_count": null,
      "outputs": [
        {
          "output_type": "stream",
          "name": "stdout",
          "text": [
            "4.5\n",
            "4.5\n",
            "std for array a: 2.29128784747792\n",
            "std for array b: 2.496873044429772\n"
          ]
        }
      ]
    },
    {
      "cell_type": "code",
      "source": [
        "#how can we utilize Numpy to quickly query our numerical data and perform actions based on boolean statement?\n",
        "a = np.array([20,30,16,17,18,22,23,24,25,32])\n",
        "#from the above array check the age group people who is having >= 18 print 'true' else 'flase'\n",
        "b = np.where(a>=18, 'True','False')\n",
        "print(b)"
      ],
      "metadata": {
        "colab": {
          "base_uri": "https://localhost:8080/"
        },
        "id": "IOAljdvJ3gdQ",
        "outputId": "ed94ca35-5ad4-4458-a2ee-9d9ed6bb7da3"
      },
      "execution_count": null,
      "outputs": [
        {
          "output_type": "stream",
          "name": "stdout",
          "text": [
            "['True' 'True' 'False' 'False' 'True' 'True' 'True' 'True' 'True' 'True']\n"
          ]
        }
      ]
    },
    {
      "cell_type": "code",
      "source": [
        "#How can you compute the rolling statistics  using Numpy,  such as rolling mean?\n",
        "from numpy.lib.stride_tricks import sliding_window_view\n",
        "x = np.arange(6)\n",
        "# print(x)\n",
        "v = sliding_window_view(x,3)\n",
        "print(v)"
      ],
      "metadata": {
        "colab": {
          "base_uri": "https://localhost:8080/"
        },
        "id": "EVb9BDPK4maL",
        "outputId": "567dbfde-ca67-41be-8f0d-d71bbeaa7f61"
      },
      "execution_count": null,
      "outputs": [
        {
          "output_type": "stream",
          "name": "stdout",
          "text": [
            "[[0 1 2]\n",
            " [1 2 3]\n",
            " [2 3 4]\n",
            " [3 4 5]]\n"
          ]
        }
      ]
    },
    {
      "cell_type": "code",
      "source": [
        "#generate a random number which is uniformaly distributed --> 0 to 1\n",
        "a = np.random.random((3,2))\n",
        "#b = np.random.uniform((3,2))\n",
        "a"
      ],
      "metadata": {
        "colab": {
          "base_uri": "https://localhost:8080/"
        },
        "id": "49VKzaVN5xr-",
        "outputId": "36eba424-cb09-4d29-fe8d-dea68a5536c1"
      },
      "execution_count": null,
      "outputs": [
        {
          "output_type": "execute_result",
          "data": {
            "text/plain": [
              "array([[0.08325375, 0.07151937],\n",
              "       [0.44474394, 0.2327695 ],\n",
              "       [0.5457058 , 0.78278745]])"
            ]
          },
          "metadata": {},
          "execution_count": 23
        }
      ]
    },
    {
      "cell_type": "code",
      "source": [
        "b = np.random.randn(3,2)\n",
        "b"
      ],
      "metadata": {
        "colab": {
          "base_uri": "https://localhost:8080/"
        },
        "id": "VpYcX0b76YRQ",
        "outputId": "6cde5691-a98f-4c1a-be51-c3cff0c9339b"
      },
      "execution_count": null,
      "outputs": [
        {
          "output_type": "execute_result",
          "data": {
            "text/plain": [
              "array([[ 0.85853889,  1.94582482],\n",
              "       [-0.09463895, -0.02453082],\n",
              "       [ 0.82172331,  0.42699185]])"
            ]
          },
          "metadata": {},
          "execution_count": 26
        }
      ]
    },
    {
      "cell_type": "code",
      "source": [
        "c = np.random.choice([1,2,3,4],size =10)\n",
        "print(c)"
      ],
      "metadata": {
        "colab": {
          "base_uri": "https://localhost:8080/"
        },
        "id": "YKVaioYO6vOg",
        "outputId": "994cb30f-4fed-445b-b7bd-6759e7bbe757"
      },
      "execution_count": null,
      "outputs": [
        {
          "output_type": "stream",
          "name": "stdout",
          "text": [
            "[3 1 2 1 4 1 1 4 3 1]\n"
          ]
        }
      ]
    },
    {
      "cell_type": "code",
      "source": [
        "a = np.array([[1,2,3,4,5],[6,7,8,9,10],[11,12,13,14,15]])\n",
        "print(a)\n",
        "#access the '8'\n",
        "print(a[1,2])\n",
        "print(a[0,:])   #print the entire values of 1st column"
      ],
      "metadata": {
        "colab": {
          "base_uri": "https://localhost:8080/"
        },
        "id": "Zwk0pcrD7BJ4",
        "outputId": "718335fa-f3d8-4e7e-e4f9-8317912bcc21"
      },
      "execution_count": null,
      "outputs": [
        {
          "output_type": "stream",
          "name": "stdout",
          "text": [
            "[[ 1  2  3  4  5]\n",
            " [ 6  7  8  9 10]\n",
            " [11 12 13 14 15]]\n",
            "8\n",
            "[1 2 3 4 5]\n"
          ]
        }
      ]
    },
    {
      "cell_type": "code",
      "source": [
        "#what is a dot product?\n",
        "#dimesions must be same and it equal of number of elements\n",
        "a = np.array([[1,2,3,4],[1,2,3,4]])\n",
        "b = np.array([[6,7,8,9],[9,7,6,5]])\n",
        "c = b.T\n",
        "d = np.dot(a,c)\n",
        "print(d)"
      ],
      "metadata": {
        "colab": {
          "base_uri": "https://localhost:8080/"
        },
        "id": "KqHrMXk27ryb",
        "outputId": "1008a9e3-ce99-4854-800d-847b6e650f21"
      },
      "execution_count": null,
      "outputs": [
        {
          "output_type": "stream",
          "name": "stdout",
          "text": [
            "[[80 61]\n",
            " [80 61]]\n"
          ]
        }
      ]
    },
    {
      "cell_type": "code",
      "source": [
        "a = np.array([1,2,3,4])\n",
        "b = np.array([1,2,3,4])\n",
        "d = a @ b\n",
        "print(d)"
      ],
      "metadata": {
        "colab": {
          "base_uri": "https://localhost:8080/"
        },
        "id": "LAeTaSL49Y-b",
        "outputId": "2e4a2715-6e2a-49a4-82e7-c34c2e87e2f4"
      },
      "execution_count": null,
      "outputs": [
        {
          "output_type": "stream",
          "name": "stdout",
          "text": [
            "30\n"
          ]
        }
      ]
    },
    {
      "cell_type": "markdown",
      "source": [
        "**File Handling**"
      ],
      "metadata": {
        "id": "A6suYZ73-FFy"
      }
    },
    {
      "cell_type": "code",
      "source": [
        "#except python file if you handle othe file like pdf,txt, excel is known as file handling\n",
        "#to read other files in python, use  \"open()\"\n",
        "#The file handling can be done in 4 modes\n",
        "# a, r, w, x\n",
        "#1.execution mode (x)--> it is used to create the file\n",
        "trail = open('trail.txt','x')"
      ],
      "metadata": {
        "id": "YMAczxMj-ErT"
      },
      "execution_count": null,
      "outputs": []
    },
    {
      "cell_type": "code",
      "source": [
        "#2. write or  overwrite mode (w):-\n",
        "f = open('trail.txt','w')\n",
        "f.write(\"i am writing contenct in this file by using write mode\")\n",
        "f.close()"
      ],
      "metadata": {
        "id": "UgJyln4J-8Jm"
      },
      "execution_count": null,
      "outputs": []
    },
    {
      "cell_type": "code",
      "source": [],
      "metadata": {
        "id": "evs85xnaD0VR"
      },
      "execution_count": null,
      "outputs": []
    },
    {
      "cell_type": "code",
      "source": [],
      "metadata": {
        "id": "LibN-0nBD0GH"
      },
      "execution_count": null,
      "outputs": []
    },
    {
      "cell_type": "code",
      "source": [
        "#3. append mode -->a\n",
        "f = open('trail.txt','a')\n",
        "f.write('. i am adding extra informtion to this file')\n",
        "f.close()"
      ],
      "metadata": {
        "id": "qdKW96nF_Z_s"
      },
      "execution_count": null,
      "outputs": []
    },
    {
      "cell_type": "code",
      "source": [
        "#4.read mode (r) by default the open() is in read mode\n",
        "f = open('trail.txt','r')\n",
        "g = f.read()\n",
        "print(g)"
      ],
      "metadata": {
        "colab": {
          "base_uri": "https://localhost:8080/"
        },
        "id": "_zkIK_db_4M7",
        "outputId": "dc9ef519-89a6-4e9d-f6e9-ae837099a58a"
      },
      "execution_count": null,
      "outputs": [
        {
          "output_type": "stream",
          "name": "stdout",
          "text": [
            "i am writing contenct in this file by using write mode. i am adding extra informtion to this file\n"
          ]
        }
      ]
    },
    {
      "cell_type": "code",
      "source": [
        "f = open('trail.txt','w')\n",
        "f.write(\"hello i am overwriting this file\")\n",
        "f.close()"
      ],
      "metadata": {
        "id": "MSjQ5q6aAuHN"
      },
      "execution_count": null,
      "outputs": []
    },
    {
      "cell_type": "markdown",
      "source": [],
      "metadata": {
        "id": "PfYQT4V-C_n5"
      }
    },
    {
      "cell_type": "code",
      "source": [
        "#how to find duplicated data in numpy array\n",
        "a = np.array([1,2,3,4,5,1,2,2,2])\n",
        "b = np.unique(a)\n",
        "print(b)"
      ],
      "metadata": {
        "colab": {
          "base_uri": "https://localhost:8080/"
        },
        "id": "dxGPFTKlDAdf",
        "outputId": "a620be6a-ac03-494f-d18b-e0ae512ebf4f"
      },
      "execution_count": null,
      "outputs": [
        {
          "output_type": "stream",
          "name": "stdout",
          "text": [
            "[1 2 3 4 5]\n"
          ]
        }
      ]
    }
  ]
}